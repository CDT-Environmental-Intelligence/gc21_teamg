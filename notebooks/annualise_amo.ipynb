{
 "cells": [
  {
   "cell_type": "markdown",
   "metadata": {},
   "source": [
    "# Annualise AMO for mean and variance"
   ]
  },
  {
   "cell_type": "markdown",
   "metadata": {},
   "source": [
    "## Load data from `.txt`"
   ]
  },
  {
   "cell_type": "code",
   "execution_count": 1,
   "metadata": {},
   "outputs": [],
   "source": [
    "import pandas as pd\n",
    "import glob"
   ]
  },
  {
   "cell_type": "code",
   "execution_count": 2,
   "metadata": {},
   "outputs": [],
   "source": [
    "dataname = 'amo'"
   ]
  },
  {
   "cell_type": "code",
   "execution_count": 4,
   "metadata": {},
   "outputs": [
    {
     "data": {
      "text/html": [
       "<div>\n",
       "<style scoped>\n",
       "    .dataframe tbody tr th:only-of-type {\n",
       "        vertical-align: middle;\n",
       "    }\n",
       "\n",
       "    .dataframe tbody tr th {\n",
       "        vertical-align: top;\n",
       "    }\n",
       "\n",
       "    .dataframe thead th {\n",
       "        text-align: right;\n",
       "    }\n",
       "</style>\n",
       "<table border=\"1\" class=\"dataframe\">\n",
       "  <thead>\n",
       "    <tr style=\"text-align: right;\">\n",
       "      <th></th>\n",
       "      <th>year</th>\n",
       "      <th>1</th>\n",
       "      <th>2</th>\n",
       "      <th>3</th>\n",
       "      <th>4</th>\n",
       "      <th>5</th>\n",
       "      <th>6</th>\n",
       "      <th>7</th>\n",
       "      <th>8</th>\n",
       "      <th>9</th>\n",
       "      <th>10</th>\n",
       "      <th>11</th>\n",
       "      <th>12</th>\n",
       "    </tr>\n",
       "  </thead>\n",
       "  <tbody>\n",
       "    <tr>\n",
       "      <th>0</th>\n",
       "      <td>1856</td>\n",
       "      <td>0.237</td>\n",
       "      <td>0.171</td>\n",
       "      <td>0.242</td>\n",
       "      <td>0.161</td>\n",
       "      <td>0.214</td>\n",
       "      <td>0.236</td>\n",
       "      <td>0.249</td>\n",
       "      <td>0.226</td>\n",
       "      <td>0.293</td>\n",
       "      <td>0.143</td>\n",
       "      <td>0.154</td>\n",
       "      <td>0.248</td>\n",
       "    </tr>\n",
       "    <tr>\n",
       "      <th>1</th>\n",
       "      <td>1857</td>\n",
       "      <td>0.233</td>\n",
       "      <td>-0.040</td>\n",
       "      <td>-0.056</td>\n",
       "      <td>0.026</td>\n",
       "      <td>-0.014</td>\n",
       "      <td>0.119</td>\n",
       "      <td>0.151</td>\n",
       "      <td>0.016</td>\n",
       "      <td>0.038</td>\n",
       "      <td>-0.115</td>\n",
       "      <td>-0.149</td>\n",
       "      <td>-0.264</td>\n",
       "    </tr>\n",
       "    <tr>\n",
       "      <th>2</th>\n",
       "      <td>1858</td>\n",
       "      <td>-0.202</td>\n",
       "      <td>-0.295</td>\n",
       "      <td>-0.052</td>\n",
       "      <td>0.230</td>\n",
       "      <td>0.108</td>\n",
       "      <td>-0.021</td>\n",
       "      <td>-0.142</td>\n",
       "      <td>-0.053</td>\n",
       "      <td>0.089</td>\n",
       "      <td>0.167</td>\n",
       "      <td>0.293</td>\n",
       "      <td>0.141</td>\n",
       "    </tr>\n",
       "    <tr>\n",
       "      <th>3</th>\n",
       "      <td>1859</td>\n",
       "      <td>-0.115</td>\n",
       "      <td>-0.102</td>\n",
       "      <td>0.078</td>\n",
       "      <td>0.167</td>\n",
       "      <td>0.105</td>\n",
       "      <td>-0.083</td>\n",
       "      <td>-0.163</td>\n",
       "      <td>0.081</td>\n",
       "      <td>0.098</td>\n",
       "      <td>0.146</td>\n",
       "      <td>0.078</td>\n",
       "      <td>0.100</td>\n",
       "    </tr>\n",
       "    <tr>\n",
       "      <th>4</th>\n",
       "      <td>1860</td>\n",
       "      <td>0.133</td>\n",
       "      <td>-0.094</td>\n",
       "      <td>0.078</td>\n",
       "      <td>-0.051</td>\n",
       "      <td>0.187</td>\n",
       "      <td>0.321</td>\n",
       "      <td>0.247</td>\n",
       "      <td>0.057</td>\n",
       "      <td>0.013</td>\n",
       "      <td>0.128</td>\n",
       "      <td>0.010</td>\n",
       "      <td>0.159</td>\n",
       "    </tr>\n",
       "  </tbody>\n",
       "</table>\n",
       "</div>"
      ],
      "text/plain": [
       "   year      1      2      3      4      5      6      7      8      9     10  \\\n",
       "0  1856  0.237  0.171  0.242  0.161  0.214  0.236  0.249  0.226  0.293  0.143   \n",
       "1  1857  0.233 -0.040 -0.056  0.026 -0.014  0.119  0.151  0.016  0.038 -0.115   \n",
       "2  1858 -0.202 -0.295 -0.052  0.230  0.108 -0.021 -0.142 -0.053  0.089  0.167   \n",
       "3  1859 -0.115 -0.102  0.078  0.167  0.105 -0.083 -0.163  0.081  0.098  0.146   \n",
       "4  1860  0.133 -0.094  0.078 -0.051  0.187  0.321  0.247  0.057  0.013  0.128   \n",
       "\n",
       "      11     12  \n",
       "0  0.154  0.248  \n",
       "1 -0.149 -0.264  \n",
       "2  0.293  0.141  \n",
       "3  0.078  0.100  \n",
       "4  0.010  0.159  "
      ]
     },
     "execution_count": 4,
     "metadata": {},
     "output_type": "execute_result"
    }
   ],
   "source": [
    "fname, = glob.glob(f\"datadrive/TeamG/data/{dataname}*.txt\")\n",
    "df = pd.read_csv(fname, delim_whitespace=True)\n",
    "df.head()"
   ]
  },
  {
   "cell_type": "code",
   "execution_count": 10,
   "metadata": {},
   "outputs": [
    {
     "data": {
      "text/html": [
       "<div>\n",
       "<style scoped>\n",
       "    .dataframe tbody tr th:only-of-type {\n",
       "        vertical-align: middle;\n",
       "    }\n",
       "\n",
       "    .dataframe tbody tr th {\n",
       "        vertical-align: top;\n",
       "    }\n",
       "\n",
       "    .dataframe thead th {\n",
       "        text-align: right;\n",
       "    }\n",
       "</style>\n",
       "<table border=\"1\" class=\"dataframe\">\n",
       "  <thead>\n",
       "    <tr style=\"text-align: right;\">\n",
       "      <th></th>\n",
       "      <th>year</th>\n",
       "      <th>1</th>\n",
       "      <th>2</th>\n",
       "      <th>3</th>\n",
       "      <th>4</th>\n",
       "      <th>5</th>\n",
       "      <th>6</th>\n",
       "      <th>7</th>\n",
       "      <th>8</th>\n",
       "      <th>9</th>\n",
       "      <th>10</th>\n",
       "      <th>11</th>\n",
       "      <th>12</th>\n",
       "    </tr>\n",
       "  </thead>\n",
       "  <tbody>\n",
       "    <tr>\n",
       "      <th>161</th>\n",
       "      <td>2017</td>\n",
       "      <td>0.213</td>\n",
       "      <td>0.215</td>\n",
       "      <td>0.155</td>\n",
       "      <td>0.271</td>\n",
       "      <td>0.302</td>\n",
       "      <td>0.296</td>\n",
       "      <td>0.290</td>\n",
       "      <td>0.298</td>\n",
       "      <td>0.338</td>\n",
       "      <td>0.421</td>\n",
       "      <td>0.340</td>\n",
       "      <td>0.352</td>\n",
       "    </tr>\n",
       "    <tr>\n",
       "      <th>162</th>\n",
       "      <td>2018</td>\n",
       "      <td>0.161</td>\n",
       "      <td>0.050</td>\n",
       "      <td>0.120</td>\n",
       "      <td>0.051</td>\n",
       "      <td>-0.013</td>\n",
       "      <td>-0.023</td>\n",
       "      <td>0.005</td>\n",
       "      <td>0.100</td>\n",
       "      <td>0.150</td>\n",
       "      <td>0.131</td>\n",
       "      <td>-0.133</td>\n",
       "      <td>-0.072</td>\n",
       "    </tr>\n",
       "    <tr>\n",
       "      <th>163</th>\n",
       "      <td>2019</td>\n",
       "      <td>-0.027</td>\n",
       "      <td>0.068</td>\n",
       "      <td>0.109</td>\n",
       "      <td>0.111</td>\n",
       "      <td>0.076</td>\n",
       "      <td>0.161</td>\n",
       "      <td>0.340</td>\n",
       "      <td>0.326</td>\n",
       "      <td>0.233</td>\n",
       "      <td>0.146</td>\n",
       "      <td>0.098</td>\n",
       "      <td>0.152</td>\n",
       "    </tr>\n",
       "    <tr>\n",
       "      <th>164</th>\n",
       "      <td>2020</td>\n",
       "      <td>0.084</td>\n",
       "      <td>0.344</td>\n",
       "      <td>0.356</td>\n",
       "      <td>0.358</td>\n",
       "      <td>0.254</td>\n",
       "      <td>0.260</td>\n",
       "      <td>0.352</td>\n",
       "      <td>0.436</td>\n",
       "      <td>0.307</td>\n",
       "      <td>0.300</td>\n",
       "      <td>0.123</td>\n",
       "      <td>0.173</td>\n",
       "    </tr>\n",
       "    <tr>\n",
       "      <th>165</th>\n",
       "      <td>2021</td>\n",
       "      <td>0.137</td>\n",
       "      <td>0.150</td>\n",
       "      <td>0.123</td>\n",
       "      <td>0.065</td>\n",
       "      <td>0.082</td>\n",
       "      <td>-99.990</td>\n",
       "      <td>-99.990</td>\n",
       "      <td>-99.990</td>\n",
       "      <td>-99.990</td>\n",
       "      <td>-99.990</td>\n",
       "      <td>-99.990</td>\n",
       "      <td>-99.990</td>\n",
       "    </tr>\n",
       "  </tbody>\n",
       "</table>\n",
       "</div>"
      ],
      "text/plain": [
       "     year      1      2      3      4      5       6       7       8       9  \\\n",
       "161  2017  0.213  0.215  0.155  0.271  0.302   0.296   0.290   0.298   0.338   \n",
       "162  2018  0.161  0.050  0.120  0.051 -0.013  -0.023   0.005   0.100   0.150   \n",
       "163  2019 -0.027  0.068  0.109  0.111  0.076   0.161   0.340   0.326   0.233   \n",
       "164  2020  0.084  0.344  0.356  0.358  0.254   0.260   0.352   0.436   0.307   \n",
       "165  2021  0.137  0.150  0.123  0.065  0.082 -99.990 -99.990 -99.990 -99.990   \n",
       "\n",
       "         10      11      12  \n",
       "161   0.421   0.340   0.352  \n",
       "162   0.131  -0.133  -0.072  \n",
       "163   0.146   0.098   0.152  \n",
       "164   0.300   0.123   0.173  \n",
       "165 -99.990 -99.990 -99.990  "
      ]
     },
     "execution_count": 10,
     "metadata": {},
     "output_type": "execute_result"
    }
   ],
   "source": [
    "df.tail()"
   ]
  },
  {
   "cell_type": "markdown",
   "metadata": {},
   "source": [
    "## Save to CSV"
   ]
  },
  {
   "cell_type": "code",
   "execution_count": 6,
   "metadata": {},
   "outputs": [],
   "source": [
    "df.to_csv(f\"datadrive/TeamG/data/{dataname}.csv\", index=False)"
   ]
  },
  {
   "cell_type": "markdown",
   "metadata": {},
   "source": [
    "## Longify"
   ]
  },
  {
   "cell_type": "code",
   "execution_count": 7,
   "metadata": {},
   "outputs": [],
   "source": [
    "dfl = df.melt(id_vars=['year'], value_vars=map(str, range(1, 13)), var_name='month', value_name=dataname)"
   ]
  },
  {
   "cell_type": "markdown",
   "metadata": {},
   "source": [
    "## Remove null values"
   ]
  },
  {
   "cell_type": "code",
   "execution_count": 9,
   "metadata": {},
   "outputs": [],
   "source": [
    "dfl = dfl[dfl[dataname] != -99.990]"
   ]
  },
  {
   "cell_type": "markdown",
   "metadata": {},
   "source": [
    "## Timey Wimey stuff"
   ]
  },
  {
   "cell_type": "code",
   "execution_count": 13,
   "metadata": {},
   "outputs": [
    {
     "name": "stderr",
     "output_type": "stream",
     "text": [
      "<ipython-input-13-b08e172c2a85>:1: SettingWithCopyWarning: \n",
      "A value is trying to be set on a copy of a slice from a DataFrame.\n",
      "Try using .loc[row_indexer,col_indexer] = value instead\n",
      "\n",
      "See the caveats in the documentation: https://pandas.pydata.org/pandas-docs/stable/user_guide/indexing.html#returning-a-view-versus-a-copy\n",
      "  dfl['month'] = pd.to_numeric(dfl['month'])\n"
     ]
    }
   ],
   "source": [
    "dfl['month'] = pd.to_numeric(dfl['month'])"
   ]
  },
  {
   "cell_type": "code",
   "execution_count": 14,
   "metadata": {
    "tags": []
   },
   "outputs": [
    {
     "name": "stderr",
     "output_type": "stream",
     "text": [
      "<ipython-input-14-8eceb1081504>:1: SettingWithCopyWarning: \n",
      "A value is trying to be set on a copy of a slice from a DataFrame.\n",
      "Try using .loc[row_indexer,col_indexer] = value instead\n",
      "\n",
      "See the caveats in the documentation: https://pandas.pydata.org/pandas-docs/stable/user_guide/indexing.html#returning-a-view-versus-a-copy\n",
      "  dfl['date'] = pd.to_datetime(dfl.year.astype(str)+dfl.month.astype(str), format='%Y%m')\n"
     ]
    }
   ],
   "source": [
    "dfl['date'] = pd.to_datetime(dfl.year.astype(str)+dfl.month.astype(str), format='%Y%m')"
   ]
  },
  {
   "cell_type": "code",
   "execution_count": 15,
   "metadata": {},
   "outputs": [
    {
     "data": {
      "text/html": [
       "<div>\n",
       "<style scoped>\n",
       "    .dataframe tbody tr th:only-of-type {\n",
       "        vertical-align: middle;\n",
       "    }\n",
       "\n",
       "    .dataframe tbody tr th {\n",
       "        vertical-align: top;\n",
       "    }\n",
       "\n",
       "    .dataframe thead th {\n",
       "        text-align: right;\n",
       "    }\n",
       "</style>\n",
       "<table border=\"1\" class=\"dataframe\">\n",
       "  <thead>\n",
       "    <tr style=\"text-align: right;\">\n",
       "      <th></th>\n",
       "      <th>year</th>\n",
       "      <th>month</th>\n",
       "      <th>amo</th>\n",
       "      <th>date</th>\n",
       "    </tr>\n",
       "  </thead>\n",
       "  <tbody>\n",
       "    <tr>\n",
       "      <th>0</th>\n",
       "      <td>1856</td>\n",
       "      <td>1</td>\n",
       "      <td>0.237</td>\n",
       "      <td>1856-01-01</td>\n",
       "    </tr>\n",
       "    <tr>\n",
       "      <th>1</th>\n",
       "      <td>1857</td>\n",
       "      <td>1</td>\n",
       "      <td>0.233</td>\n",
       "      <td>1857-01-01</td>\n",
       "    </tr>\n",
       "    <tr>\n",
       "      <th>2</th>\n",
       "      <td>1858</td>\n",
       "      <td>1</td>\n",
       "      <td>-0.202</td>\n",
       "      <td>1858-01-01</td>\n",
       "    </tr>\n",
       "    <tr>\n",
       "      <th>3</th>\n",
       "      <td>1859</td>\n",
       "      <td>1</td>\n",
       "      <td>-0.115</td>\n",
       "      <td>1859-01-01</td>\n",
       "    </tr>\n",
       "    <tr>\n",
       "      <th>4</th>\n",
       "      <td>1860</td>\n",
       "      <td>1</td>\n",
       "      <td>0.133</td>\n",
       "      <td>1860-01-01</td>\n",
       "    </tr>\n",
       "    <tr>\n",
       "      <th>...</th>\n",
       "      <td>...</td>\n",
       "      <td>...</td>\n",
       "      <td>...</td>\n",
       "      <td>...</td>\n",
       "    </tr>\n",
       "    <tr>\n",
       "      <th>1986</th>\n",
       "      <td>2016</td>\n",
       "      <td>12</td>\n",
       "      <td>0.323</td>\n",
       "      <td>2016-12-01</td>\n",
       "    </tr>\n",
       "    <tr>\n",
       "      <th>1987</th>\n",
       "      <td>2017</td>\n",
       "      <td>12</td>\n",
       "      <td>0.352</td>\n",
       "      <td>2017-12-01</td>\n",
       "    </tr>\n",
       "    <tr>\n",
       "      <th>1988</th>\n",
       "      <td>2018</td>\n",
       "      <td>12</td>\n",
       "      <td>-0.072</td>\n",
       "      <td>2018-12-01</td>\n",
       "    </tr>\n",
       "    <tr>\n",
       "      <th>1989</th>\n",
       "      <td>2019</td>\n",
       "      <td>12</td>\n",
       "      <td>0.152</td>\n",
       "      <td>2019-12-01</td>\n",
       "    </tr>\n",
       "    <tr>\n",
       "      <th>1990</th>\n",
       "      <td>2020</td>\n",
       "      <td>12</td>\n",
       "      <td>0.173</td>\n",
       "      <td>2020-12-01</td>\n",
       "    </tr>\n",
       "  </tbody>\n",
       "</table>\n",
       "<p>1985 rows × 4 columns</p>\n",
       "</div>"
      ],
      "text/plain": [
       "      year  month    amo       date\n",
       "0     1856      1  0.237 1856-01-01\n",
       "1     1857      1  0.233 1857-01-01\n",
       "2     1858      1 -0.202 1858-01-01\n",
       "3     1859      1 -0.115 1859-01-01\n",
       "4     1860      1  0.133 1860-01-01\n",
       "...    ...    ...    ...        ...\n",
       "1986  2016     12  0.323 2016-12-01\n",
       "1987  2017     12  0.352 2017-12-01\n",
       "1988  2018     12 -0.072 2018-12-01\n",
       "1989  2019     12  0.152 2019-12-01\n",
       "1990  2020     12  0.173 2020-12-01\n",
       "\n",
       "[1985 rows x 4 columns]"
      ]
     },
     "execution_count": 15,
     "metadata": {},
     "output_type": "execute_result"
    }
   ],
   "source": [
    "dfl"
   ]
  },
  {
   "cell_type": "code",
   "execution_count": 16,
   "metadata": {},
   "outputs": [
    {
     "name": "stderr",
     "output_type": "stream",
     "text": [
      "<ipython-input-16-12c1e506bcb7>:1: SettingWithCopyWarning: \n",
      "A value is trying to be set on a copy of a slice from a DataFrame.\n",
      "Try using .loc[row_indexer,col_indexer] = value instead\n",
      "\n",
      "See the caveats in the documentation: https://pandas.pydata.org/pandas-docs/stable/user_guide/indexing.html#returning-a-view-versus-a-copy\n",
      "  dfl['north'] = dfl['date'].dt.to_period('A-NOV')\n"
     ]
    }
   ],
   "source": [
    "dfl['north'] = dfl['date'].dt.to_period('A-NOV')"
   ]
  },
  {
   "cell_type": "code",
   "execution_count": 17,
   "metadata": {},
   "outputs": [
    {
     "name": "stderr",
     "output_type": "stream",
     "text": [
      "<ipython-input-17-5d0b43db76d1>:1: SettingWithCopyWarning: \n",
      "A value is trying to be set on a copy of a slice from a DataFrame.\n",
      "Try using .loc[row_indexer,col_indexer] = value instead\n",
      "\n",
      "See the caveats in the documentation: https://pandas.pydata.org/pandas-docs/stable/user_guide/indexing.html#returning-a-view-versus-a-copy\n",
      "  dfl['south'] = dfl['date'].dt.to_period('A-MAY')\n"
     ]
    }
   ],
   "source": [
    "dfl['south'] = dfl['date'].dt.to_period('A-MAY')"
   ]
  },
  {
   "cell_type": "code",
   "execution_count": 18,
   "metadata": {},
   "outputs": [
    {
     "name": "stderr",
     "output_type": "stream",
     "text": [
      "<ipython-input-18-42b3f5dbfb4f>:1: SettingWithCopyWarning: \n",
      "A value is trying to be set on a copy of a slice from a DataFrame.\n",
      "Try using .loc[row_indexer,col_indexer] = value instead\n",
      "\n",
      "See the caveats in the documentation: https://pandas.pydata.org/pandas-docs/stable/user_guide/indexing.html#returning-a-view-versus-a-copy\n",
      "  dfl['tropic'] = dfl['date'].dt.to_period('A-APR')\n"
     ]
    }
   ],
   "source": [
    "dfl['tropic'] = dfl['date'].dt.to_period('A-APR')"
   ]
  },
  {
   "cell_type": "code",
   "execution_count": 19,
   "metadata": {},
   "outputs": [
    {
     "data": {
      "text/html": [
       "<div>\n",
       "<style scoped>\n",
       "    .dataframe tbody tr th:only-of-type {\n",
       "        vertical-align: middle;\n",
       "    }\n",
       "\n",
       "    .dataframe tbody tr th {\n",
       "        vertical-align: top;\n",
       "    }\n",
       "\n",
       "    .dataframe thead th {\n",
       "        text-align: right;\n",
       "    }\n",
       "</style>\n",
       "<table border=\"1\" class=\"dataframe\">\n",
       "  <thead>\n",
       "    <tr style=\"text-align: right;\">\n",
       "      <th></th>\n",
       "      <th>year</th>\n",
       "      <th>month</th>\n",
       "      <th>amo</th>\n",
       "      <th>date</th>\n",
       "      <th>north</th>\n",
       "      <th>south</th>\n",
       "      <th>tropic</th>\n",
       "    </tr>\n",
       "  </thead>\n",
       "  <tbody>\n",
       "    <tr>\n",
       "      <th>0</th>\n",
       "      <td>1856</td>\n",
       "      <td>1</td>\n",
       "      <td>0.237</td>\n",
       "      <td>1856-01-01</td>\n",
       "      <td>1856</td>\n",
       "      <td>1856</td>\n",
       "      <td>1856</td>\n",
       "    </tr>\n",
       "    <tr>\n",
       "      <th>1</th>\n",
       "      <td>1857</td>\n",
       "      <td>1</td>\n",
       "      <td>0.233</td>\n",
       "      <td>1857-01-01</td>\n",
       "      <td>1857</td>\n",
       "      <td>1857</td>\n",
       "      <td>1857</td>\n",
       "    </tr>\n",
       "    <tr>\n",
       "      <th>2</th>\n",
       "      <td>1858</td>\n",
       "      <td>1</td>\n",
       "      <td>-0.202</td>\n",
       "      <td>1858-01-01</td>\n",
       "      <td>1858</td>\n",
       "      <td>1858</td>\n",
       "      <td>1858</td>\n",
       "    </tr>\n",
       "    <tr>\n",
       "      <th>3</th>\n",
       "      <td>1859</td>\n",
       "      <td>1</td>\n",
       "      <td>-0.115</td>\n",
       "      <td>1859-01-01</td>\n",
       "      <td>1859</td>\n",
       "      <td>1859</td>\n",
       "      <td>1859</td>\n",
       "    </tr>\n",
       "    <tr>\n",
       "      <th>4</th>\n",
       "      <td>1860</td>\n",
       "      <td>1</td>\n",
       "      <td>0.133</td>\n",
       "      <td>1860-01-01</td>\n",
       "      <td>1860</td>\n",
       "      <td>1860</td>\n",
       "      <td>1860</td>\n",
       "    </tr>\n",
       "    <tr>\n",
       "      <th>...</th>\n",
       "      <td>...</td>\n",
       "      <td>...</td>\n",
       "      <td>...</td>\n",
       "      <td>...</td>\n",
       "      <td>...</td>\n",
       "      <td>...</td>\n",
       "      <td>...</td>\n",
       "    </tr>\n",
       "    <tr>\n",
       "      <th>1986</th>\n",
       "      <td>2016</td>\n",
       "      <td>12</td>\n",
       "      <td>0.323</td>\n",
       "      <td>2016-12-01</td>\n",
       "      <td>2017</td>\n",
       "      <td>2017</td>\n",
       "      <td>2017</td>\n",
       "    </tr>\n",
       "    <tr>\n",
       "      <th>1987</th>\n",
       "      <td>2017</td>\n",
       "      <td>12</td>\n",
       "      <td>0.352</td>\n",
       "      <td>2017-12-01</td>\n",
       "      <td>2018</td>\n",
       "      <td>2018</td>\n",
       "      <td>2018</td>\n",
       "    </tr>\n",
       "    <tr>\n",
       "      <th>1988</th>\n",
       "      <td>2018</td>\n",
       "      <td>12</td>\n",
       "      <td>-0.072</td>\n",
       "      <td>2018-12-01</td>\n",
       "      <td>2019</td>\n",
       "      <td>2019</td>\n",
       "      <td>2019</td>\n",
       "    </tr>\n",
       "    <tr>\n",
       "      <th>1989</th>\n",
       "      <td>2019</td>\n",
       "      <td>12</td>\n",
       "      <td>0.152</td>\n",
       "      <td>2019-12-01</td>\n",
       "      <td>2020</td>\n",
       "      <td>2020</td>\n",
       "      <td>2020</td>\n",
       "    </tr>\n",
       "    <tr>\n",
       "      <th>1990</th>\n",
       "      <td>2020</td>\n",
       "      <td>12</td>\n",
       "      <td>0.173</td>\n",
       "      <td>2020-12-01</td>\n",
       "      <td>2021</td>\n",
       "      <td>2021</td>\n",
       "      <td>2021</td>\n",
       "    </tr>\n",
       "  </tbody>\n",
       "</table>\n",
       "<p>1985 rows × 7 columns</p>\n",
       "</div>"
      ],
      "text/plain": [
       "      year  month    amo       date north south tropic\n",
       "0     1856      1  0.237 1856-01-01  1856  1856   1856\n",
       "1     1857      1  0.233 1857-01-01  1857  1857   1857\n",
       "2     1858      1 -0.202 1858-01-01  1858  1858   1858\n",
       "3     1859      1 -0.115 1859-01-01  1859  1859   1859\n",
       "4     1860      1  0.133 1860-01-01  1860  1860   1860\n",
       "...    ...    ...    ...        ...   ...   ...    ...\n",
       "1986  2016     12  0.323 2016-12-01  2017  2017   2017\n",
       "1987  2017     12  0.352 2017-12-01  2018  2018   2018\n",
       "1988  2018     12 -0.072 2018-12-01  2019  2019   2019\n",
       "1989  2019     12  0.152 2019-12-01  2020  2020   2020\n",
       "1990  2020     12  0.173 2020-12-01  2021  2021   2021\n",
       "\n",
       "[1985 rows x 7 columns]"
      ]
     },
     "execution_count": 19,
     "metadata": {},
     "output_type": "execute_result"
    }
   ],
   "source": [
    "dfl"
   ]
  },
  {
   "cell_type": "markdown",
   "metadata": {},
   "source": [
    "## Aggregate - Mean"
   ]
  },
  {
   "cell_type": "code",
   "execution_count": 20,
   "metadata": {},
   "outputs": [],
   "source": [
    "def mean_to_csv(var, dataname=dataname):\n",
    "    (dfl[[var, dataname]]\n",
    "     .rename(columns={var: 'year', dataname: f\"{dataname}_mean_{var}\"})\n",
    "     .groupby('year')\n",
    "     .mean()\n",
    "     .to_csv(f'datadrive/TeamG/data/{dataname}_annual_mean_{var}.csv'))"
   ]
  },
  {
   "cell_type": "markdown",
   "metadata": {},
   "source": [
    "Northern Hemisphere (Dec-Dec)"
   ]
  },
  {
   "cell_type": "code",
   "execution_count": 21,
   "metadata": {},
   "outputs": [],
   "source": [
    "mean_to_csv('north')"
   ]
  },
  {
   "cell_type": "markdown",
   "metadata": {},
   "source": [
    "Southern Hemisphere (Jun-Jun)"
   ]
  },
  {
   "cell_type": "code",
   "execution_count": 22,
   "metadata": {},
   "outputs": [],
   "source": [
    "mean_to_csv('south')"
   ]
  },
  {
   "cell_type": "markdown",
   "metadata": {},
   "source": [
    "Tropical year (May-May)"
   ]
  },
  {
   "cell_type": "code",
   "execution_count": 23,
   "metadata": {},
   "outputs": [],
   "source": [
    "mean_to_csv('tropic')"
   ]
  },
  {
   "cell_type": "markdown",
   "metadata": {},
   "source": [
    "Hsiang 2011 - \"Civil conflicts are associated with the global climate\" (Mar-Dec) <br>\n",
    "https://www.nature.com/articles/nature10311"
   ]
  },
  {
   "cell_type": "code",
   "execution_count": 24,
   "metadata": {},
   "outputs": [],
   "source": [
    "(dfl[dfl.month > 4]\n",
    " .groupby('year')\n",
    " .mean()[dataname]\n",
    " .to_csv(f'datadrive/TeamG/data/{dataname}_annual_mean_hsiang2011.csv')\n",
    ")"
   ]
  },
  {
   "cell_type": "markdown",
   "metadata": {},
   "source": [
    "## Aggregate - Variance"
   ]
  },
  {
   "cell_type": "code",
   "execution_count": 35,
   "metadata": {},
   "outputs": [],
   "source": [
    "def variance_to_csv(var, dataname=dataname):\n",
    "    (dfl[[var, dataname]]\n",
    "     .rename(columns={var: 'year', dataname: f\"{dataname}_variance_{var}\"})\n",
    "     .groupby('year')\n",
    "     .var()\n",
    "     .to_csv(f'datadrive/TeamG/data/{dataname}_annual_variance_{var}.csv'))"
   ]
  },
  {
   "cell_type": "markdown",
   "metadata": {},
   "source": [
    "Northern Hemisphere (Dec-Dec)"
   ]
  },
  {
   "cell_type": "code",
   "execution_count": 36,
   "metadata": {},
   "outputs": [],
   "source": [
    "variance_to_csv('north')"
   ]
  },
  {
   "cell_type": "markdown",
   "metadata": {},
   "source": [
    "Southern Hemisphere (Jun-Jun)"
   ]
  },
  {
   "cell_type": "code",
   "execution_count": 37,
   "metadata": {},
   "outputs": [],
   "source": [
    "variance_to_csv('south')"
   ]
  },
  {
   "cell_type": "markdown",
   "metadata": {},
   "source": [
    "Tropical year (May-May)"
   ]
  },
  {
   "cell_type": "code",
   "execution_count": 38,
   "metadata": {},
   "outputs": [],
   "source": [
    "variance_to_csv('tropic')"
   ]
  },
  {
   "cell_type": "markdown",
   "metadata": {},
   "source": [
    "Hsiang 2011 - \"Civil conflicts are associated with the global climate\" (Mar-Dec) <br>\n",
    "https://www.nature.com/articles/nature10311"
   ]
  },
  {
   "cell_type": "code",
   "execution_count": 39,
   "metadata": {},
   "outputs": [],
   "source": [
    "(dfl[dfl.month > 4]\n",
    " .groupby('year')\n",
    " .var()[dataname]\n",
    " .to_csv(f'datadrive/TeamG/data/{dataname}_annual_variance_hsiang2011.csv')\n",
    ")"
   ]
  },
  {
   "cell_type": "code",
   "execution_count": null,
   "metadata": {},
   "outputs": [],
   "source": []
  }
 ],
 "metadata": {
  "kernelspec": {
   "display_name": "py38_default",
   "language": "python",
   "name": "conda-env-py38_default-py"
  },
  "language_info": {
   "codemirror_mode": {
    "name": "ipython",
    "version": 3
   },
   "file_extension": ".py",
   "mimetype": "text/x-python",
   "name": "python",
   "nbconvert_exporter": "python",
   "pygments_lexer": "ipython3",
   "version": "3.8.10"
  }
 },
 "nbformat": 4,
 "nbformat_minor": 4
}
