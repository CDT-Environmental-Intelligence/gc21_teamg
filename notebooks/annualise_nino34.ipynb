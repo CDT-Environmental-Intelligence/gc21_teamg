{
 "cells": [
  {
   "cell_type": "markdown",
   "metadata": {},
   "source": [
    "# Annualise Nino 3.4 data for mean and variance\n",
    "Take monthly indices and generate annual averages"
   ]
  },
  {
   "cell_type": "markdown",
   "metadata": {},
   "source": [
    "## Load data from `.csv`"
   ]
  },
  {
   "cell_type": "code",
   "execution_count": 1,
   "metadata": {},
   "outputs": [],
   "source": [
    "import pandas as pd\n",
    "import glob"
   ]
  },
  {
   "cell_type": "code",
   "execution_count": 2,
   "metadata": {},
   "outputs": [],
   "source": [
    "dataname = 'nino34'"
   ]
  },
  {
   "cell_type": "code",
   "execution_count": 3,
   "metadata": {},
   "outputs": [
    {
     "data": {
      "text/html": [
       "<div>\n",
       "<style scoped>\n",
       "    .dataframe tbody tr th:only-of-type {\n",
       "        vertical-align: middle;\n",
       "    }\n",
       "\n",
       "    .dataframe tbody tr th {\n",
       "        vertical-align: top;\n",
       "    }\n",
       "\n",
       "    .dataframe thead th {\n",
       "        text-align: right;\n",
       "    }\n",
       "</style>\n",
       "<table border=\"1\" class=\"dataframe\">\n",
       "  <thead>\n",
       "    <tr style=\"text-align: right;\">\n",
       "      <th></th>\n",
       "      <th>Year</th>\n",
       "      <th>1</th>\n",
       "      <th>2</th>\n",
       "      <th>3</th>\n",
       "      <th>4</th>\n",
       "      <th>5</th>\n",
       "      <th>6</th>\n",
       "      <th>7</th>\n",
       "      <th>8</th>\n",
       "      <th>9</th>\n",
       "      <th>10</th>\n",
       "      <th>11</th>\n",
       "      <th>12</th>\n",
       "    </tr>\n",
       "  </thead>\n",
       "  <tbody>\n",
       "    <tr>\n",
       "      <th>0</th>\n",
       "      <td>1950</td>\n",
       "      <td>-1.99</td>\n",
       "      <td>-1.69</td>\n",
       "      <td>-1.42</td>\n",
       "      <td>-1.54</td>\n",
       "      <td>-1.75</td>\n",
       "      <td>-1.27</td>\n",
       "      <td>-1.01</td>\n",
       "      <td>-0.97</td>\n",
       "      <td>-0.98</td>\n",
       "      <td>-1.03</td>\n",
       "      <td>-1.23</td>\n",
       "      <td>-1.31</td>\n",
       "    </tr>\n",
       "    <tr>\n",
       "      <th>1</th>\n",
       "      <td>1951</td>\n",
       "      <td>-1.30</td>\n",
       "      <td>-1.04</td>\n",
       "      <td>-0.38</td>\n",
       "      <td>-0.23</td>\n",
       "      <td>-0.01</td>\n",
       "      <td>0.00</td>\n",
       "      <td>0.30</td>\n",
       "      <td>0.17</td>\n",
       "      <td>0.51</td>\n",
       "      <td>0.49</td>\n",
       "      <td>0.55</td>\n",
       "      <td>0.31</td>\n",
       "    </tr>\n",
       "    <tr>\n",
       "      <th>2</th>\n",
       "      <td>1952</td>\n",
       "      <td>0.13</td>\n",
       "      <td>-0.01</td>\n",
       "      <td>-0.11</td>\n",
       "      <td>-0.02</td>\n",
       "      <td>-0.14</td>\n",
       "      <td>-0.54</td>\n",
       "      <td>-0.76</td>\n",
       "      <td>-0.56</td>\n",
       "      <td>-0.36</td>\n",
       "      <td>-0.46</td>\n",
       "      <td>-0.78</td>\n",
       "      <td>-0.39</td>\n",
       "    </tr>\n",
       "    <tr>\n",
       "      <th>3</th>\n",
       "      <td>1953</td>\n",
       "      <td>0.20</td>\n",
       "      <td>0.24</td>\n",
       "      <td>0.29</td>\n",
       "      <td>0.22</td>\n",
       "      <td>0.35</td>\n",
       "      <td>0.39</td>\n",
       "      <td>0.14</td>\n",
       "      <td>0.09</td>\n",
       "      <td>0.29</td>\n",
       "      <td>0.16</td>\n",
       "      <td>0.18</td>\n",
       "      <td>0.41</td>\n",
       "    </tr>\n",
       "    <tr>\n",
       "      <th>4</th>\n",
       "      <td>1954</td>\n",
       "      <td>0.43</td>\n",
       "      <td>0.28</td>\n",
       "      <td>-0.38</td>\n",
       "      <td>-1.17</td>\n",
       "      <td>-0.81</td>\n",
       "      <td>-0.93</td>\n",
       "      <td>-1.18</td>\n",
       "      <td>-1.43</td>\n",
       "      <td>-1.60</td>\n",
       "      <td>-1.48</td>\n",
       "      <td>-1.13</td>\n",
       "      <td>-1.33</td>\n",
       "    </tr>\n",
       "  </tbody>\n",
       "</table>\n",
       "</div>"
      ],
      "text/plain": [
       "   Year     1     2     3     4     5     6     7     8     9    10    11  \\\n",
       "0  1950 -1.99 -1.69 -1.42 -1.54 -1.75 -1.27 -1.01 -0.97 -0.98 -1.03 -1.23   \n",
       "1  1951 -1.30 -1.04 -0.38 -0.23 -0.01  0.00  0.30  0.17  0.51  0.49  0.55   \n",
       "2  1952  0.13 -0.01 -0.11 -0.02 -0.14 -0.54 -0.76 -0.56 -0.36 -0.46 -0.78   \n",
       "3  1953  0.20  0.24  0.29  0.22  0.35  0.39  0.14  0.09  0.29  0.16  0.18   \n",
       "4  1954  0.43  0.28 -0.38 -1.17 -0.81 -0.93 -1.18 -1.43 -1.60 -1.48 -1.13   \n",
       "\n",
       "     12  \n",
       "0 -1.31  \n",
       "1  0.31  \n",
       "2 -0.39  \n",
       "3  0.41  \n",
       "4 -1.33  "
      ]
     },
     "execution_count": 3,
     "metadata": {},
     "output_type": "execute_result"
    }
   ],
   "source": [
    "fname, = glob.glob(f\"../data/{dataname}.csv\")\n",
    "df = pd.read_csv(fname)\n",
    "df.head()"
   ]
  },
  {
   "cell_type": "code",
   "execution_count": 4,
   "metadata": {},
   "outputs": [
    {
     "data": {
      "text/html": [
       "<div>\n",
       "<style scoped>\n",
       "    .dataframe tbody tr th:only-of-type {\n",
       "        vertical-align: middle;\n",
       "    }\n",
       "\n",
       "    .dataframe tbody tr th {\n",
       "        vertical-align: top;\n",
       "    }\n",
       "\n",
       "    .dataframe thead th {\n",
       "        text-align: right;\n",
       "    }\n",
       "</style>\n",
       "<table border=\"1\" class=\"dataframe\">\n",
       "  <thead>\n",
       "    <tr style=\"text-align: right;\">\n",
       "      <th></th>\n",
       "      <th>Year</th>\n",
       "      <th>1</th>\n",
       "      <th>2</th>\n",
       "      <th>3</th>\n",
       "      <th>4</th>\n",
       "      <th>5</th>\n",
       "      <th>6</th>\n",
       "      <th>7</th>\n",
       "      <th>8</th>\n",
       "      <th>9</th>\n",
       "      <th>10</th>\n",
       "      <th>11</th>\n",
       "      <th>12</th>\n",
       "    </tr>\n",
       "  </thead>\n",
       "  <tbody>\n",
       "    <tr>\n",
       "      <th>67</th>\n",
       "      <td>2017</td>\n",
       "      <td>-0.43</td>\n",
       "      <td>-0.08</td>\n",
       "      <td>0.03</td>\n",
       "      <td>0.22</td>\n",
       "      <td>0.37</td>\n",
       "      <td>0.34</td>\n",
       "      <td>0.25</td>\n",
       "      <td>-0.16</td>\n",
       "      <td>-0.43</td>\n",
       "      <td>-0.56</td>\n",
       "      <td>-0.97</td>\n",
       "      <td>-0.98</td>\n",
       "    </tr>\n",
       "    <tr>\n",
       "      <th>68</th>\n",
       "      <td>2018</td>\n",
       "      <td>-0.98</td>\n",
       "      <td>-0.78</td>\n",
       "      <td>-0.80</td>\n",
       "      <td>-0.51</td>\n",
       "      <td>-0.20</td>\n",
       "      <td>0.04</td>\n",
       "      <td>0.12</td>\n",
       "      <td>0.09</td>\n",
       "      <td>0.47</td>\n",
       "      <td>0.90</td>\n",
       "      <td>0.90</td>\n",
       "      <td>0.89</td>\n",
       "    </tr>\n",
       "    <tr>\n",
       "      <th>69</th>\n",
       "      <td>2019</td>\n",
       "      <td>0.65</td>\n",
       "      <td>0.71</td>\n",
       "      <td>0.81</td>\n",
       "      <td>0.62</td>\n",
       "      <td>0.55</td>\n",
       "      <td>0.45</td>\n",
       "      <td>0.35</td>\n",
       "      <td>0.04</td>\n",
       "      <td>0.03</td>\n",
       "      <td>0.48</td>\n",
       "      <td>0.52</td>\n",
       "      <td>0.52</td>\n",
       "    </tr>\n",
       "    <tr>\n",
       "      <th>70</th>\n",
       "      <td>2020</td>\n",
       "      <td>0.60</td>\n",
       "      <td>0.37</td>\n",
       "      <td>0.48</td>\n",
       "      <td>0.36</td>\n",
       "      <td>-0.27</td>\n",
       "      <td>-0.34</td>\n",
       "      <td>-0.30</td>\n",
       "      <td>-0.59</td>\n",
       "      <td>-0.83</td>\n",
       "      <td>-1.26</td>\n",
       "      <td>-1.42</td>\n",
       "      <td>-1.15</td>\n",
       "    </tr>\n",
       "    <tr>\n",
       "      <th>71</th>\n",
       "      <td>2021</td>\n",
       "      <td>-1.00</td>\n",
       "      <td>-1.00</td>\n",
       "      <td>-0.80</td>\n",
       "      <td>-0.71</td>\n",
       "      <td>-0.49</td>\n",
       "      <td>NaN</td>\n",
       "      <td>NaN</td>\n",
       "      <td>NaN</td>\n",
       "      <td>NaN</td>\n",
       "      <td>NaN</td>\n",
       "      <td>NaN</td>\n",
       "      <td>NaN</td>\n",
       "    </tr>\n",
       "  </tbody>\n",
       "</table>\n",
       "</div>"
      ],
      "text/plain": [
       "    Year     1     2     3     4     5     6     7     8     9    10    11  \\\n",
       "67  2017 -0.43 -0.08  0.03  0.22  0.37  0.34  0.25 -0.16 -0.43 -0.56 -0.97   \n",
       "68  2018 -0.98 -0.78 -0.80 -0.51 -0.20  0.04  0.12  0.09  0.47  0.90  0.90   \n",
       "69  2019  0.65  0.71  0.81  0.62  0.55  0.45  0.35  0.04  0.03  0.48  0.52   \n",
       "70  2020  0.60  0.37  0.48  0.36 -0.27 -0.34 -0.30 -0.59 -0.83 -1.26 -1.42   \n",
       "71  2021 -1.00 -1.00 -0.80 -0.71 -0.49   NaN   NaN   NaN   NaN   NaN   NaN   \n",
       "\n",
       "      12  \n",
       "67 -0.98  \n",
       "68  0.89  \n",
       "69  0.52  \n",
       "70 -1.15  \n",
       "71   NaN  "
      ]
     },
     "execution_count": 4,
     "metadata": {},
     "output_type": "execute_result"
    }
   ],
   "source": [
    "df.tail()"
   ]
  },
  {
   "cell_type": "markdown",
   "metadata": {},
   "source": [
    "## Longify"
   ]
  },
  {
   "cell_type": "code",
   "execution_count": 5,
   "metadata": {},
   "outputs": [],
   "source": [
    "dfl = df.melt(id_vars=['Year'], value_vars=map(str, range(1, 13)), var_name='month', value_name=dataname)"
   ]
  },
  {
   "cell_type": "markdown",
   "metadata": {},
   "source": [
    "## Remove null values"
   ]
  },
  {
   "cell_type": "code",
   "execution_count": 6,
   "metadata": {},
   "outputs": [],
   "source": [
    "dfl.dropna(inplace=True)"
   ]
  },
  {
   "cell_type": "code",
   "execution_count": 7,
   "metadata": {},
   "outputs": [
    {
     "data": {
      "text/html": [
       "<div>\n",
       "<style scoped>\n",
       "    .dataframe tbody tr th:only-of-type {\n",
       "        vertical-align: middle;\n",
       "    }\n",
       "\n",
       "    .dataframe tbody tr th {\n",
       "        vertical-align: top;\n",
       "    }\n",
       "\n",
       "    .dataframe thead th {\n",
       "        text-align: right;\n",
       "    }\n",
       "</style>\n",
       "<table border=\"1\" class=\"dataframe\">\n",
       "  <thead>\n",
       "    <tr style=\"text-align: right;\">\n",
       "      <th></th>\n",
       "      <th>Year</th>\n",
       "      <th>month</th>\n",
       "      <th>nino34</th>\n",
       "    </tr>\n",
       "  </thead>\n",
       "  <tbody>\n",
       "    <tr>\n",
       "      <th>858</th>\n",
       "      <td>2016</td>\n",
       "      <td>12</td>\n",
       "      <td>-0.50</td>\n",
       "    </tr>\n",
       "    <tr>\n",
       "      <th>859</th>\n",
       "      <td>2017</td>\n",
       "      <td>12</td>\n",
       "      <td>-0.98</td>\n",
       "    </tr>\n",
       "    <tr>\n",
       "      <th>860</th>\n",
       "      <td>2018</td>\n",
       "      <td>12</td>\n",
       "      <td>0.89</td>\n",
       "    </tr>\n",
       "    <tr>\n",
       "      <th>861</th>\n",
       "      <td>2019</td>\n",
       "      <td>12</td>\n",
       "      <td>0.52</td>\n",
       "    </tr>\n",
       "    <tr>\n",
       "      <th>862</th>\n",
       "      <td>2020</td>\n",
       "      <td>12</td>\n",
       "      <td>-1.15</td>\n",
       "    </tr>\n",
       "  </tbody>\n",
       "</table>\n",
       "</div>"
      ],
      "text/plain": [
       "     Year month  nino34\n",
       "858  2016    12   -0.50\n",
       "859  2017    12   -0.98\n",
       "860  2018    12    0.89\n",
       "861  2019    12    0.52\n",
       "862  2020    12   -1.15"
      ]
     },
     "execution_count": 7,
     "metadata": {},
     "output_type": "execute_result"
    }
   ],
   "source": [
    "dfl.tail()"
   ]
  },
  {
   "cell_type": "markdown",
   "metadata": {},
   "source": [
    "## Timey Wimey stuff"
   ]
  },
  {
   "cell_type": "code",
   "execution_count": 8,
   "metadata": {},
   "outputs": [],
   "source": [
    "dfl['year'] = dfl['Year']"
   ]
  },
  {
   "cell_type": "code",
   "execution_count": 9,
   "metadata": {},
   "outputs": [],
   "source": [
    "dfl['month'] = pd.to_numeric(dfl['month'])"
   ]
  },
  {
   "cell_type": "code",
   "execution_count": 10,
   "metadata": {
    "tags": []
   },
   "outputs": [],
   "source": [
    "dfl['date'] = pd.to_datetime(dfl.year.astype(str)+dfl.month.astype(str), format='%Y%m')"
   ]
  },
  {
   "cell_type": "code",
   "execution_count": 11,
   "metadata": {},
   "outputs": [
    {
     "data": {
      "text/html": [
       "<div>\n",
       "<style scoped>\n",
       "    .dataframe tbody tr th:only-of-type {\n",
       "        vertical-align: middle;\n",
       "    }\n",
       "\n",
       "    .dataframe tbody tr th {\n",
       "        vertical-align: top;\n",
       "    }\n",
       "\n",
       "    .dataframe thead th {\n",
       "        text-align: right;\n",
       "    }\n",
       "</style>\n",
       "<table border=\"1\" class=\"dataframe\">\n",
       "  <thead>\n",
       "    <tr style=\"text-align: right;\">\n",
       "      <th></th>\n",
       "      <th>Year</th>\n",
       "      <th>month</th>\n",
       "      <th>nino34</th>\n",
       "      <th>year</th>\n",
       "      <th>date</th>\n",
       "    </tr>\n",
       "  </thead>\n",
       "  <tbody>\n",
       "    <tr>\n",
       "      <th>0</th>\n",
       "      <td>1950</td>\n",
       "      <td>1</td>\n",
       "      <td>-1.99</td>\n",
       "      <td>1950</td>\n",
       "      <td>1950-01-01</td>\n",
       "    </tr>\n",
       "    <tr>\n",
       "      <th>1</th>\n",
       "      <td>1951</td>\n",
       "      <td>1</td>\n",
       "      <td>-1.30</td>\n",
       "      <td>1951</td>\n",
       "      <td>1951-01-01</td>\n",
       "    </tr>\n",
       "    <tr>\n",
       "      <th>2</th>\n",
       "      <td>1952</td>\n",
       "      <td>1</td>\n",
       "      <td>0.13</td>\n",
       "      <td>1952</td>\n",
       "      <td>1952-01-01</td>\n",
       "    </tr>\n",
       "    <tr>\n",
       "      <th>3</th>\n",
       "      <td>1953</td>\n",
       "      <td>1</td>\n",
       "      <td>0.20</td>\n",
       "      <td>1953</td>\n",
       "      <td>1953-01-01</td>\n",
       "    </tr>\n",
       "    <tr>\n",
       "      <th>4</th>\n",
       "      <td>1954</td>\n",
       "      <td>1</td>\n",
       "      <td>0.43</td>\n",
       "      <td>1954</td>\n",
       "      <td>1954-01-01</td>\n",
       "    </tr>\n",
       "    <tr>\n",
       "      <th>...</th>\n",
       "      <td>...</td>\n",
       "      <td>...</td>\n",
       "      <td>...</td>\n",
       "      <td>...</td>\n",
       "      <td>...</td>\n",
       "    </tr>\n",
       "    <tr>\n",
       "      <th>858</th>\n",
       "      <td>2016</td>\n",
       "      <td>12</td>\n",
       "      <td>-0.50</td>\n",
       "      <td>2016</td>\n",
       "      <td>2016-12-01</td>\n",
       "    </tr>\n",
       "    <tr>\n",
       "      <th>859</th>\n",
       "      <td>2017</td>\n",
       "      <td>12</td>\n",
       "      <td>-0.98</td>\n",
       "      <td>2017</td>\n",
       "      <td>2017-12-01</td>\n",
       "    </tr>\n",
       "    <tr>\n",
       "      <th>860</th>\n",
       "      <td>2018</td>\n",
       "      <td>12</td>\n",
       "      <td>0.89</td>\n",
       "      <td>2018</td>\n",
       "      <td>2018-12-01</td>\n",
       "    </tr>\n",
       "    <tr>\n",
       "      <th>861</th>\n",
       "      <td>2019</td>\n",
       "      <td>12</td>\n",
       "      <td>0.52</td>\n",
       "      <td>2019</td>\n",
       "      <td>2019-12-01</td>\n",
       "    </tr>\n",
       "    <tr>\n",
       "      <th>862</th>\n",
       "      <td>2020</td>\n",
       "      <td>12</td>\n",
       "      <td>-1.15</td>\n",
       "      <td>2020</td>\n",
       "      <td>2020-12-01</td>\n",
       "    </tr>\n",
       "  </tbody>\n",
       "</table>\n",
       "<p>857 rows × 5 columns</p>\n",
       "</div>"
      ],
      "text/plain": [
       "     Year  month  nino34  year       date\n",
       "0    1950      1   -1.99  1950 1950-01-01\n",
       "1    1951      1   -1.30  1951 1951-01-01\n",
       "2    1952      1    0.13  1952 1952-01-01\n",
       "3    1953      1    0.20  1953 1953-01-01\n",
       "4    1954      1    0.43  1954 1954-01-01\n",
       "..    ...    ...     ...   ...        ...\n",
       "858  2016     12   -0.50  2016 2016-12-01\n",
       "859  2017     12   -0.98  2017 2017-12-01\n",
       "860  2018     12    0.89  2018 2018-12-01\n",
       "861  2019     12    0.52  2019 2019-12-01\n",
       "862  2020     12   -1.15  2020 2020-12-01\n",
       "\n",
       "[857 rows x 5 columns]"
      ]
     },
     "execution_count": 11,
     "metadata": {},
     "output_type": "execute_result"
    }
   ],
   "source": [
    "dfl"
   ]
  },
  {
   "cell_type": "code",
   "execution_count": 12,
   "metadata": {},
   "outputs": [],
   "source": [
    "dfl['north'] = dfl['date'].dt.to_period('A-NOV')"
   ]
  },
  {
   "cell_type": "code",
   "execution_count": 13,
   "metadata": {},
   "outputs": [],
   "source": [
    "dfl['south'] = dfl['date'].dt.to_period('A-MAY')"
   ]
  },
  {
   "cell_type": "code",
   "execution_count": 14,
   "metadata": {},
   "outputs": [],
   "source": [
    "dfl['tropic'] = dfl['date'].dt.to_period('A-APR')"
   ]
  },
  {
   "cell_type": "code",
   "execution_count": 15,
   "metadata": {},
   "outputs": [
    {
     "data": {
      "text/html": [
       "<div>\n",
       "<style scoped>\n",
       "    .dataframe tbody tr th:only-of-type {\n",
       "        vertical-align: middle;\n",
       "    }\n",
       "\n",
       "    .dataframe tbody tr th {\n",
       "        vertical-align: top;\n",
       "    }\n",
       "\n",
       "    .dataframe thead th {\n",
       "        text-align: right;\n",
       "    }\n",
       "</style>\n",
       "<table border=\"1\" class=\"dataframe\">\n",
       "  <thead>\n",
       "    <tr style=\"text-align: right;\">\n",
       "      <th></th>\n",
       "      <th>Year</th>\n",
       "      <th>month</th>\n",
       "      <th>nino34</th>\n",
       "      <th>year</th>\n",
       "      <th>date</th>\n",
       "      <th>north</th>\n",
       "      <th>south</th>\n",
       "      <th>tropic</th>\n",
       "    </tr>\n",
       "  </thead>\n",
       "  <tbody>\n",
       "    <tr>\n",
       "      <th>0</th>\n",
       "      <td>1950</td>\n",
       "      <td>1</td>\n",
       "      <td>-1.99</td>\n",
       "      <td>1950</td>\n",
       "      <td>1950-01-01</td>\n",
       "      <td>1950</td>\n",
       "      <td>1950</td>\n",
       "      <td>1950</td>\n",
       "    </tr>\n",
       "    <tr>\n",
       "      <th>1</th>\n",
       "      <td>1951</td>\n",
       "      <td>1</td>\n",
       "      <td>-1.30</td>\n",
       "      <td>1951</td>\n",
       "      <td>1951-01-01</td>\n",
       "      <td>1951</td>\n",
       "      <td>1951</td>\n",
       "      <td>1951</td>\n",
       "    </tr>\n",
       "    <tr>\n",
       "      <th>2</th>\n",
       "      <td>1952</td>\n",
       "      <td>1</td>\n",
       "      <td>0.13</td>\n",
       "      <td>1952</td>\n",
       "      <td>1952-01-01</td>\n",
       "      <td>1952</td>\n",
       "      <td>1952</td>\n",
       "      <td>1952</td>\n",
       "    </tr>\n",
       "    <tr>\n",
       "      <th>3</th>\n",
       "      <td>1953</td>\n",
       "      <td>1</td>\n",
       "      <td>0.20</td>\n",
       "      <td>1953</td>\n",
       "      <td>1953-01-01</td>\n",
       "      <td>1953</td>\n",
       "      <td>1953</td>\n",
       "      <td>1953</td>\n",
       "    </tr>\n",
       "    <tr>\n",
       "      <th>4</th>\n",
       "      <td>1954</td>\n",
       "      <td>1</td>\n",
       "      <td>0.43</td>\n",
       "      <td>1954</td>\n",
       "      <td>1954-01-01</td>\n",
       "      <td>1954</td>\n",
       "      <td>1954</td>\n",
       "      <td>1954</td>\n",
       "    </tr>\n",
       "    <tr>\n",
       "      <th>...</th>\n",
       "      <td>...</td>\n",
       "      <td>...</td>\n",
       "      <td>...</td>\n",
       "      <td>...</td>\n",
       "      <td>...</td>\n",
       "      <td>...</td>\n",
       "      <td>...</td>\n",
       "      <td>...</td>\n",
       "    </tr>\n",
       "    <tr>\n",
       "      <th>858</th>\n",
       "      <td>2016</td>\n",
       "      <td>12</td>\n",
       "      <td>-0.50</td>\n",
       "      <td>2016</td>\n",
       "      <td>2016-12-01</td>\n",
       "      <td>2017</td>\n",
       "      <td>2017</td>\n",
       "      <td>2017</td>\n",
       "    </tr>\n",
       "    <tr>\n",
       "      <th>859</th>\n",
       "      <td>2017</td>\n",
       "      <td>12</td>\n",
       "      <td>-0.98</td>\n",
       "      <td>2017</td>\n",
       "      <td>2017-12-01</td>\n",
       "      <td>2018</td>\n",
       "      <td>2018</td>\n",
       "      <td>2018</td>\n",
       "    </tr>\n",
       "    <tr>\n",
       "      <th>860</th>\n",
       "      <td>2018</td>\n",
       "      <td>12</td>\n",
       "      <td>0.89</td>\n",
       "      <td>2018</td>\n",
       "      <td>2018-12-01</td>\n",
       "      <td>2019</td>\n",
       "      <td>2019</td>\n",
       "      <td>2019</td>\n",
       "    </tr>\n",
       "    <tr>\n",
       "      <th>861</th>\n",
       "      <td>2019</td>\n",
       "      <td>12</td>\n",
       "      <td>0.52</td>\n",
       "      <td>2019</td>\n",
       "      <td>2019-12-01</td>\n",
       "      <td>2020</td>\n",
       "      <td>2020</td>\n",
       "      <td>2020</td>\n",
       "    </tr>\n",
       "    <tr>\n",
       "      <th>862</th>\n",
       "      <td>2020</td>\n",
       "      <td>12</td>\n",
       "      <td>-1.15</td>\n",
       "      <td>2020</td>\n",
       "      <td>2020-12-01</td>\n",
       "      <td>2021</td>\n",
       "      <td>2021</td>\n",
       "      <td>2021</td>\n",
       "    </tr>\n",
       "  </tbody>\n",
       "</table>\n",
       "<p>857 rows × 8 columns</p>\n",
       "</div>"
      ],
      "text/plain": [
       "     Year  month  nino34  year       date north south tropic\n",
       "0    1950      1   -1.99  1950 1950-01-01  1950  1950   1950\n",
       "1    1951      1   -1.30  1951 1951-01-01  1951  1951   1951\n",
       "2    1952      1    0.13  1952 1952-01-01  1952  1952   1952\n",
       "3    1953      1    0.20  1953 1953-01-01  1953  1953   1953\n",
       "4    1954      1    0.43  1954 1954-01-01  1954  1954   1954\n",
       "..    ...    ...     ...   ...        ...   ...   ...    ...\n",
       "858  2016     12   -0.50  2016 2016-12-01  2017  2017   2017\n",
       "859  2017     12   -0.98  2017 2017-12-01  2018  2018   2018\n",
       "860  2018     12    0.89  2018 2018-12-01  2019  2019   2019\n",
       "861  2019     12    0.52  2019 2019-12-01  2020  2020   2020\n",
       "862  2020     12   -1.15  2020 2020-12-01  2021  2021   2021\n",
       "\n",
       "[857 rows x 8 columns]"
      ]
     },
     "execution_count": 15,
     "metadata": {},
     "output_type": "execute_result"
    }
   ],
   "source": [
    "dfl"
   ]
  },
  {
   "cell_type": "markdown",
   "metadata": {},
   "source": [
    "## Aggregate - Mean"
   ]
  },
  {
   "cell_type": "code",
   "execution_count": 16,
   "metadata": {},
   "outputs": [],
   "source": [
    "def mean_to_csv(var, dataname=dataname):\n",
    "    (dfl[[var, dataname]]\n",
    "     .rename(columns={var: 'year', dataname: f\"{dataname}_mean_{var}\"})\n",
    "     .groupby('year')\n",
    "     .mean()\n",
    "     .to_csv(f'../data/{dataname}_annual_mean_{var}.csv'))"
   ]
  },
  {
   "cell_type": "markdown",
   "metadata": {},
   "source": [
    "Northern Hemisphere (Dec-Dec)"
   ]
  },
  {
   "cell_type": "code",
   "execution_count": 17,
   "metadata": {},
   "outputs": [],
   "source": [
    "mean_to_csv('north')"
   ]
  },
  {
   "cell_type": "markdown",
   "metadata": {},
   "source": [
    "Southern Hemisphere (Jun-Jun)"
   ]
  },
  {
   "cell_type": "code",
   "execution_count": 18,
   "metadata": {},
   "outputs": [],
   "source": [
    "mean_to_csv('south')"
   ]
  },
  {
   "cell_type": "markdown",
   "metadata": {},
   "source": [
    "Tropical year (May-May)"
   ]
  },
  {
   "cell_type": "code",
   "execution_count": 19,
   "metadata": {},
   "outputs": [],
   "source": [
    "mean_to_csv('tropic')"
   ]
  },
  {
   "cell_type": "markdown",
   "metadata": {},
   "source": [
    "Hsiang 2011 - \"Civil conflicts are associated with the global climate\" (Mar-Dec) <br>\n",
    "https://www.nature.com/articles/nature10311"
   ]
  },
  {
   "cell_type": "code",
   "execution_count": 20,
   "metadata": {},
   "outputs": [],
   "source": [
    "(dfl[dfl.month > 4]\n",
    " .groupby('year')\n",
    " .mean()[dataname]\n",
    " .to_csv(f'../data/{dataname}_annual_mean_hsiang2011.csv')\n",
    ")"
   ]
  },
  {
   "cell_type": "markdown",
   "metadata": {},
   "source": [
    "## Aggregate - Variance"
   ]
  },
  {
   "cell_type": "code",
   "execution_count": 21,
   "metadata": {},
   "outputs": [],
   "source": [
    "def variance_to_csv(var, dataname=dataname):\n",
    "    (dfl[[var, dataname]]\n",
    "     .rename(columns={var: 'year', dataname: f\"{dataname}_variance_{var}\"})\n",
    "     .groupby('year')\n",
    "     .var()\n",
    "     .to_csv(f'../data/{dataname}_annual_variance_{var}.csv'))"
   ]
  },
  {
   "cell_type": "markdown",
   "metadata": {},
   "source": [
    "Northern Hemisphere (Dec-Dec)"
   ]
  },
  {
   "cell_type": "code",
   "execution_count": 22,
   "metadata": {},
   "outputs": [],
   "source": [
    "variance_to_csv('north')"
   ]
  },
  {
   "cell_type": "markdown",
   "metadata": {},
   "source": [
    "Southern Hemisphere (Jun-Jun)"
   ]
  },
  {
   "cell_type": "code",
   "execution_count": 23,
   "metadata": {},
   "outputs": [],
   "source": [
    "variance_to_csv('south')"
   ]
  },
  {
   "cell_type": "markdown",
   "metadata": {},
   "source": [
    "Tropical year (May-May)"
   ]
  },
  {
   "cell_type": "code",
   "execution_count": 24,
   "metadata": {},
   "outputs": [],
   "source": [
    "variance_to_csv('tropic')"
   ]
  },
  {
   "cell_type": "markdown",
   "metadata": {},
   "source": [
    "Hsiang 2011 - \"Civil conflicts are associated with the global climate\" (Mar-Dec) <br>\n",
    "https://www.nature.com/articles/nature10311"
   ]
  },
  {
   "cell_type": "code",
   "execution_count": 25,
   "metadata": {},
   "outputs": [],
   "source": [
    "(dfl[dfl.month > 4]\n",
    " .groupby('year')\n",
    " .var()[dataname]\n",
    " .to_csv(f'../data/{dataname}_annual_variance_hsiang2011.csv')\n",
    ")"
   ]
  },
  {
   "cell_type": "code",
   "execution_count": null,
   "metadata": {},
   "outputs": [],
   "source": []
  }
 ],
 "metadata": {
  "kernelspec": {
   "display_name": "Python 3",
   "language": "python",
   "name": "python3"
  },
  "language_info": {
   "codemirror_mode": {
    "name": "ipython",
    "version": 3
   },
   "file_extension": ".py",
   "mimetype": "text/x-python",
   "name": "python",
   "nbconvert_exporter": "python",
   "pygments_lexer": "ipython3",
   "version": "3.7.9"
  }
 },
 "nbformat": 4,
 "nbformat_minor": 4
}
