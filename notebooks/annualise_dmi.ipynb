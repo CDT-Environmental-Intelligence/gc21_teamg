{
 "cells": [
  {
   "cell_type": "markdown",
   "metadata": {},
   "source": [
    "# Annualise DMI for mean and variance"
   ]
  },
  {
   "cell_type": "markdown",
   "metadata": {},
   "source": [
    "## Load data from `.txt`"
   ]
  },
  {
   "cell_type": "code",
   "execution_count": 4,
   "metadata": {},
   "outputs": [],
   "source": [
    "import pandas as pd\n",
    "import glob"
   ]
  },
  {
   "cell_type": "code",
   "execution_count": 2,
   "metadata": {},
   "outputs": [],
   "source": [
    "dataname = 'dmi'"
   ]
  },
  {
   "cell_type": "code",
   "execution_count": 7,
   "metadata": {},
   "outputs": [
    {
     "data": {
      "text/html": [
       "<div>\n",
       "<style scoped>\n",
       "    .dataframe tbody tr th:only-of-type {\n",
       "        vertical-align: middle;\n",
       "    }\n",
       "\n",
       "    .dataframe tbody tr th {\n",
       "        vertical-align: top;\n",
       "    }\n",
       "\n",
       "    .dataframe thead th {\n",
       "        text-align: right;\n",
       "    }\n",
       "</style>\n",
       "<table border=\"1\" class=\"dataframe\">\n",
       "  <thead>\n",
       "    <tr style=\"text-align: right;\">\n",
       "      <th></th>\n",
       "      <th>year</th>\n",
       "      <th>1</th>\n",
       "      <th>2</th>\n",
       "      <th>3</th>\n",
       "      <th>4</th>\n",
       "      <th>5</th>\n",
       "      <th>6</th>\n",
       "      <th>7</th>\n",
       "      <th>8</th>\n",
       "      <th>9</th>\n",
       "      <th>10</th>\n",
       "      <th>11</th>\n",
       "      <th>12</th>\n",
       "    </tr>\n",
       "  </thead>\n",
       "  <tbody>\n",
       "    <tr>\n",
       "      <th>0</th>\n",
       "      <td>1870</td>\n",
       "      <td>-0.373</td>\n",
       "      <td>-0.256</td>\n",
       "      <td>0.277</td>\n",
       "      <td>0.027</td>\n",
       "      <td>-0.400</td>\n",
       "      <td>-0.434</td>\n",
       "      <td>-0.554</td>\n",
       "      <td>-0.409</td>\n",
       "      <td>-0.622</td>\n",
       "      <td>-0.476</td>\n",
       "      <td>-0.278</td>\n",
       "      <td>-0.306</td>\n",
       "    </tr>\n",
       "    <tr>\n",
       "      <th>1</th>\n",
       "      <td>1871</td>\n",
       "      <td>-0.208</td>\n",
       "      <td>-0.090</td>\n",
       "      <td>-0.112</td>\n",
       "      <td>-0.073</td>\n",
       "      <td>-0.035</td>\n",
       "      <td>-0.049</td>\n",
       "      <td>-0.347</td>\n",
       "      <td>-0.263</td>\n",
       "      <td>-0.230</td>\n",
       "      <td>-0.368</td>\n",
       "      <td>-0.094</td>\n",
       "      <td>-0.159</td>\n",
       "    </tr>\n",
       "    <tr>\n",
       "      <th>2</th>\n",
       "      <td>1872</td>\n",
       "      <td>0.028</td>\n",
       "      <td>0.121</td>\n",
       "      <td>0.024</td>\n",
       "      <td>-0.009</td>\n",
       "      <td>-0.069</td>\n",
       "      <td>0.030</td>\n",
       "      <td>-0.189</td>\n",
       "      <td>-0.213</td>\n",
       "      <td>-0.227</td>\n",
       "      <td>-0.111</td>\n",
       "      <td>0.017</td>\n",
       "      <td>-0.041</td>\n",
       "    </tr>\n",
       "    <tr>\n",
       "      <th>3</th>\n",
       "      <td>1873</td>\n",
       "      <td>0.127</td>\n",
       "      <td>-0.239</td>\n",
       "      <td>-0.304</td>\n",
       "      <td>-0.196</td>\n",
       "      <td>-0.331</td>\n",
       "      <td>-0.473</td>\n",
       "      <td>-0.593</td>\n",
       "      <td>-0.688</td>\n",
       "      <td>-0.588</td>\n",
       "      <td>-0.319</td>\n",
       "      <td>-0.229</td>\n",
       "      <td>-0.233</td>\n",
       "    </tr>\n",
       "    <tr>\n",
       "      <th>4</th>\n",
       "      <td>1874</td>\n",
       "      <td>-0.316</td>\n",
       "      <td>-0.308</td>\n",
       "      <td>-0.486</td>\n",
       "      <td>-0.678</td>\n",
       "      <td>-0.361</td>\n",
       "      <td>-0.351</td>\n",
       "      <td>-0.242</td>\n",
       "      <td>-0.232</td>\n",
       "      <td>-0.708</td>\n",
       "      <td>-0.999</td>\n",
       "      <td>-0.480</td>\n",
       "      <td>-0.720</td>\n",
       "    </tr>\n",
       "  </tbody>\n",
       "</table>\n",
       "</div>"
      ],
      "text/plain": [
       "   year      1      2      3      4      5      6      7      8      9     10  \\\n",
       "0  1870 -0.373 -0.256  0.277  0.027 -0.400 -0.434 -0.554 -0.409 -0.622 -0.476   \n",
       "1  1871 -0.208 -0.090 -0.112 -0.073 -0.035 -0.049 -0.347 -0.263 -0.230 -0.368   \n",
       "2  1872  0.028  0.121  0.024 -0.009 -0.069  0.030 -0.189 -0.213 -0.227 -0.111   \n",
       "3  1873  0.127 -0.239 -0.304 -0.196 -0.331 -0.473 -0.593 -0.688 -0.588 -0.319   \n",
       "4  1874 -0.316 -0.308 -0.486 -0.678 -0.361 -0.351 -0.242 -0.232 -0.708 -0.999   \n",
       "\n",
       "      11     12  \n",
       "0 -0.278 -0.306  \n",
       "1 -0.094 -0.159  \n",
       "2  0.017 -0.041  \n",
       "3 -0.229 -0.233  \n",
       "4 -0.480 -0.720  "
      ]
     },
     "execution_count": 7,
     "metadata": {},
     "output_type": "execute_result"
    }
   ],
   "source": [
    "fname, = glob.glob(f\"datadrive/TeamG/data/{dataname}.*.txt\")\n",
    "df = pd.read_csv(fname, delim_whitespace=True)\n",
    "df.head()"
   ]
  },
  {
   "cell_type": "code",
   "execution_count": 8,
   "metadata": {},
   "outputs": [
    {
     "data": {
      "text/html": [
       "<div>\n",
       "<style scoped>\n",
       "    .dataframe tbody tr th:only-of-type {\n",
       "        vertical-align: middle;\n",
       "    }\n",
       "\n",
       "    .dataframe tbody tr th {\n",
       "        vertical-align: top;\n",
       "    }\n",
       "\n",
       "    .dataframe thead th {\n",
       "        text-align: right;\n",
       "    }\n",
       "</style>\n",
       "<table border=\"1\" class=\"dataframe\">\n",
       "  <thead>\n",
       "    <tr style=\"text-align: right;\">\n",
       "      <th></th>\n",
       "      <th>year</th>\n",
       "      <th>1</th>\n",
       "      <th>2</th>\n",
       "      <th>3</th>\n",
       "      <th>4</th>\n",
       "      <th>5</th>\n",
       "      <th>6</th>\n",
       "      <th>7</th>\n",
       "      <th>8</th>\n",
       "      <th>9</th>\n",
       "      <th>10</th>\n",
       "      <th>11</th>\n",
       "      <th>12</th>\n",
       "    </tr>\n",
       "  </thead>\n",
       "  <tbody>\n",
       "    <tr>\n",
       "      <th>147</th>\n",
       "      <td>2017</td>\n",
       "      <td>-0.020</td>\n",
       "      <td>0.181</td>\n",
       "      <td>0.457</td>\n",
       "      <td>0.574</td>\n",
       "      <td>0.616</td>\n",
       "      <td>0.537</td>\n",
       "      <td>0.617</td>\n",
       "      <td>0.461</td>\n",
       "      <td>0.140</td>\n",
       "      <td>0.175</td>\n",
       "      <td>0.412</td>\n",
       "      <td>0.179</td>\n",
       "    </tr>\n",
       "    <tr>\n",
       "      <th>148</th>\n",
       "      <td>2018</td>\n",
       "      <td>-0.135</td>\n",
       "      <td>0.295</td>\n",
       "      <td>-0.020</td>\n",
       "      <td>-0.008</td>\n",
       "      <td>0.202</td>\n",
       "      <td>0.269</td>\n",
       "      <td>0.150</td>\n",
       "      <td>0.234</td>\n",
       "      <td>0.710</td>\n",
       "      <td>0.844</td>\n",
       "      <td>0.623</td>\n",
       "      <td>0.379</td>\n",
       "    </tr>\n",
       "    <tr>\n",
       "      <th>149</th>\n",
       "      <td>2019</td>\n",
       "      <td>0.452</td>\n",
       "      <td>0.496</td>\n",
       "      <td>0.325</td>\n",
       "      <td>0.333</td>\n",
       "      <td>0.619</td>\n",
       "      <td>0.719</td>\n",
       "      <td>0.693</td>\n",
       "      <td>0.548</td>\n",
       "      <td>0.999</td>\n",
       "      <td>1.123</td>\n",
       "      <td>0.958</td>\n",
       "      <td>0.312</td>\n",
       "    </tr>\n",
       "    <tr>\n",
       "      <th>150</th>\n",
       "      <td>2020</td>\n",
       "      <td>0.238</td>\n",
       "      <td>0.134</td>\n",
       "      <td>0.119</td>\n",
       "      <td>0.064</td>\n",
       "      <td>0.378</td>\n",
       "      <td>0.568</td>\n",
       "      <td>0.417</td>\n",
       "      <td>-0.070</td>\n",
       "      <td>-0.084</td>\n",
       "      <td>0.233</td>\n",
       "      <td>0.143</td>\n",
       "      <td>0.100</td>\n",
       "    </tr>\n",
       "    <tr>\n",
       "      <th>151</th>\n",
       "      <td>2021</td>\n",
       "      <td>0.116</td>\n",
       "      <td>0.323</td>\n",
       "      <td>0.367</td>\n",
       "      <td>-9999.000</td>\n",
       "      <td>-9999.000</td>\n",
       "      <td>-9999.000</td>\n",
       "      <td>-9999.000</td>\n",
       "      <td>-9999.000</td>\n",
       "      <td>-9999.000</td>\n",
       "      <td>-9999.000</td>\n",
       "      <td>-9999.000</td>\n",
       "      <td>-9999.000</td>\n",
       "    </tr>\n",
       "  </tbody>\n",
       "</table>\n",
       "</div>"
      ],
      "text/plain": [
       "     year      1      2      3         4         5         6         7  \\\n",
       "147  2017 -0.020  0.181  0.457     0.574     0.616     0.537     0.617   \n",
       "148  2018 -0.135  0.295 -0.020    -0.008     0.202     0.269     0.150   \n",
       "149  2019  0.452  0.496  0.325     0.333     0.619     0.719     0.693   \n",
       "150  2020  0.238  0.134  0.119     0.064     0.378     0.568     0.417   \n",
       "151  2021  0.116  0.323  0.367 -9999.000 -9999.000 -9999.000 -9999.000   \n",
       "\n",
       "            8         9        10        11        12  \n",
       "147     0.461     0.140     0.175     0.412     0.179  \n",
       "148     0.234     0.710     0.844     0.623     0.379  \n",
       "149     0.548     0.999     1.123     0.958     0.312  \n",
       "150    -0.070    -0.084     0.233     0.143     0.100  \n",
       "151 -9999.000 -9999.000 -9999.000 -9999.000 -9999.000  "
      ]
     },
     "execution_count": 8,
     "metadata": {},
     "output_type": "execute_result"
    }
   ],
   "source": [
    "df.tail()"
   ]
  },
  {
   "cell_type": "markdown",
   "metadata": {},
   "source": [
    "## Save to CSV"
   ]
  },
  {
   "cell_type": "code",
   "execution_count": 9,
   "metadata": {},
   "outputs": [],
   "source": [
    "df.to_csv(f\"datadrive/TeamG/data/{dataname}.csv\", index=False)"
   ]
  },
  {
   "cell_type": "markdown",
   "metadata": {},
   "source": [
    "## Longify"
   ]
  },
  {
   "cell_type": "code",
   "execution_count": 10,
   "metadata": {},
   "outputs": [],
   "source": [
    "dfl = df.melt(id_vars=['year'], value_vars=map(str, range(1, 13)), var_name='month', value_name=dataname)"
   ]
  },
  {
   "cell_type": "markdown",
   "metadata": {},
   "source": [
    "## Remove null values"
   ]
  },
  {
   "cell_type": "code",
   "execution_count": 11,
   "metadata": {},
   "outputs": [],
   "source": [
    "dfl = dfl[dfl[dataname] != -9999.00]"
   ]
  },
  {
   "cell_type": "markdown",
   "metadata": {},
   "source": [
    "## Timey Wimey stuff"
   ]
  },
  {
   "cell_type": "code",
   "execution_count": 27,
   "metadata": {},
   "outputs": [],
   "source": [
    "dfl['month'] = pd.to_numeric(dfl['month'])"
   ]
  },
  {
   "cell_type": "code",
   "execution_count": 12,
   "metadata": {
    "tags": []
   },
   "outputs": [],
   "source": [
    "dfl['date'] = pd.to_datetime(dfl.year.astype(str)+dfl.month.astype(str), format='%Y%m')"
   ]
  },
  {
   "cell_type": "code",
   "execution_count": 13,
   "metadata": {},
   "outputs": [
    {
     "data": {
      "text/html": [
       "<div>\n",
       "<style scoped>\n",
       "    .dataframe tbody tr th:only-of-type {\n",
       "        vertical-align: middle;\n",
       "    }\n",
       "\n",
       "    .dataframe tbody tr th {\n",
       "        vertical-align: top;\n",
       "    }\n",
       "\n",
       "    .dataframe thead th {\n",
       "        text-align: right;\n",
       "    }\n",
       "</style>\n",
       "<table border=\"1\" class=\"dataframe\">\n",
       "  <thead>\n",
       "    <tr style=\"text-align: right;\">\n",
       "      <th></th>\n",
       "      <th>year</th>\n",
       "      <th>month</th>\n",
       "      <th>dmi</th>\n",
       "      <th>date</th>\n",
       "    </tr>\n",
       "  </thead>\n",
       "  <tbody>\n",
       "    <tr>\n",
       "      <th>0</th>\n",
       "      <td>1870</td>\n",
       "      <td>1</td>\n",
       "      <td>-0.373</td>\n",
       "      <td>1870-01-01</td>\n",
       "    </tr>\n",
       "    <tr>\n",
       "      <th>1</th>\n",
       "      <td>1871</td>\n",
       "      <td>1</td>\n",
       "      <td>-0.208</td>\n",
       "      <td>1871-01-01</td>\n",
       "    </tr>\n",
       "    <tr>\n",
       "      <th>2</th>\n",
       "      <td>1872</td>\n",
       "      <td>1</td>\n",
       "      <td>0.028</td>\n",
       "      <td>1872-01-01</td>\n",
       "    </tr>\n",
       "    <tr>\n",
       "      <th>3</th>\n",
       "      <td>1873</td>\n",
       "      <td>1</td>\n",
       "      <td>0.127</td>\n",
       "      <td>1873-01-01</td>\n",
       "    </tr>\n",
       "    <tr>\n",
       "      <th>4</th>\n",
       "      <td>1874</td>\n",
       "      <td>1</td>\n",
       "      <td>-0.316</td>\n",
       "      <td>1874-01-01</td>\n",
       "    </tr>\n",
       "    <tr>\n",
       "      <th>...</th>\n",
       "      <td>...</td>\n",
       "      <td>...</td>\n",
       "      <td>...</td>\n",
       "      <td>...</td>\n",
       "    </tr>\n",
       "    <tr>\n",
       "      <th>1818</th>\n",
       "      <td>2016</td>\n",
       "      <td>12</td>\n",
       "      <td>-0.241</td>\n",
       "      <td>2016-12-01</td>\n",
       "    </tr>\n",
       "    <tr>\n",
       "      <th>1819</th>\n",
       "      <td>2017</td>\n",
       "      <td>12</td>\n",
       "      <td>0.179</td>\n",
       "      <td>2017-12-01</td>\n",
       "    </tr>\n",
       "    <tr>\n",
       "      <th>1820</th>\n",
       "      <td>2018</td>\n",
       "      <td>12</td>\n",
       "      <td>0.379</td>\n",
       "      <td>2018-12-01</td>\n",
       "    </tr>\n",
       "    <tr>\n",
       "      <th>1821</th>\n",
       "      <td>2019</td>\n",
       "      <td>12</td>\n",
       "      <td>0.312</td>\n",
       "      <td>2019-12-01</td>\n",
       "    </tr>\n",
       "    <tr>\n",
       "      <th>1822</th>\n",
       "      <td>2020</td>\n",
       "      <td>12</td>\n",
       "      <td>0.100</td>\n",
       "      <td>2020-12-01</td>\n",
       "    </tr>\n",
       "  </tbody>\n",
       "</table>\n",
       "<p>1815 rows × 4 columns</p>\n",
       "</div>"
      ],
      "text/plain": [
       "      year month    dmi       date\n",
       "0     1870     1 -0.373 1870-01-01\n",
       "1     1871     1 -0.208 1871-01-01\n",
       "2     1872     1  0.028 1872-01-01\n",
       "3     1873     1  0.127 1873-01-01\n",
       "4     1874     1 -0.316 1874-01-01\n",
       "...    ...   ...    ...        ...\n",
       "1818  2016    12 -0.241 2016-12-01\n",
       "1819  2017    12  0.179 2017-12-01\n",
       "1820  2018    12  0.379 2018-12-01\n",
       "1821  2019    12  0.312 2019-12-01\n",
       "1822  2020    12  0.100 2020-12-01\n",
       "\n",
       "[1815 rows x 4 columns]"
      ]
     },
     "execution_count": 13,
     "metadata": {},
     "output_type": "execute_result"
    }
   ],
   "source": [
    "dfl"
   ]
  },
  {
   "cell_type": "code",
   "execution_count": 14,
   "metadata": {},
   "outputs": [],
   "source": [
    "dfl['north'] = dfl['date'].dt.to_period('A-NOV')"
   ]
  },
  {
   "cell_type": "code",
   "execution_count": 15,
   "metadata": {},
   "outputs": [],
   "source": [
    "dfl['south'] = dfl['date'].dt.to_period('A-MAY')"
   ]
  },
  {
   "cell_type": "code",
   "execution_count": 16,
   "metadata": {},
   "outputs": [],
   "source": [
    "dfl['tropic'] = dfl['date'].dt.to_period('A-APR')"
   ]
  },
  {
   "cell_type": "code",
   "execution_count": 17,
   "metadata": {},
   "outputs": [
    {
     "data": {
      "text/html": [
       "<div>\n",
       "<style scoped>\n",
       "    .dataframe tbody tr th:only-of-type {\n",
       "        vertical-align: middle;\n",
       "    }\n",
       "\n",
       "    .dataframe tbody tr th {\n",
       "        vertical-align: top;\n",
       "    }\n",
       "\n",
       "    .dataframe thead th {\n",
       "        text-align: right;\n",
       "    }\n",
       "</style>\n",
       "<table border=\"1\" class=\"dataframe\">\n",
       "  <thead>\n",
       "    <tr style=\"text-align: right;\">\n",
       "      <th></th>\n",
       "      <th>year</th>\n",
       "      <th>month</th>\n",
       "      <th>dmi</th>\n",
       "      <th>date</th>\n",
       "      <th>north</th>\n",
       "      <th>south</th>\n",
       "      <th>tropic</th>\n",
       "    </tr>\n",
       "  </thead>\n",
       "  <tbody>\n",
       "    <tr>\n",
       "      <th>0</th>\n",
       "      <td>1870</td>\n",
       "      <td>1</td>\n",
       "      <td>-0.373</td>\n",
       "      <td>1870-01-01</td>\n",
       "      <td>1870</td>\n",
       "      <td>1870</td>\n",
       "      <td>1870</td>\n",
       "    </tr>\n",
       "    <tr>\n",
       "      <th>1</th>\n",
       "      <td>1871</td>\n",
       "      <td>1</td>\n",
       "      <td>-0.208</td>\n",
       "      <td>1871-01-01</td>\n",
       "      <td>1871</td>\n",
       "      <td>1871</td>\n",
       "      <td>1871</td>\n",
       "    </tr>\n",
       "    <tr>\n",
       "      <th>2</th>\n",
       "      <td>1872</td>\n",
       "      <td>1</td>\n",
       "      <td>0.028</td>\n",
       "      <td>1872-01-01</td>\n",
       "      <td>1872</td>\n",
       "      <td>1872</td>\n",
       "      <td>1872</td>\n",
       "    </tr>\n",
       "    <tr>\n",
       "      <th>3</th>\n",
       "      <td>1873</td>\n",
       "      <td>1</td>\n",
       "      <td>0.127</td>\n",
       "      <td>1873-01-01</td>\n",
       "      <td>1873</td>\n",
       "      <td>1873</td>\n",
       "      <td>1873</td>\n",
       "    </tr>\n",
       "    <tr>\n",
       "      <th>4</th>\n",
       "      <td>1874</td>\n",
       "      <td>1</td>\n",
       "      <td>-0.316</td>\n",
       "      <td>1874-01-01</td>\n",
       "      <td>1874</td>\n",
       "      <td>1874</td>\n",
       "      <td>1874</td>\n",
       "    </tr>\n",
       "    <tr>\n",
       "      <th>...</th>\n",
       "      <td>...</td>\n",
       "      <td>...</td>\n",
       "      <td>...</td>\n",
       "      <td>...</td>\n",
       "      <td>...</td>\n",
       "      <td>...</td>\n",
       "      <td>...</td>\n",
       "    </tr>\n",
       "    <tr>\n",
       "      <th>1818</th>\n",
       "      <td>2016</td>\n",
       "      <td>12</td>\n",
       "      <td>-0.241</td>\n",
       "      <td>2016-12-01</td>\n",
       "      <td>2017</td>\n",
       "      <td>2017</td>\n",
       "      <td>2017</td>\n",
       "    </tr>\n",
       "    <tr>\n",
       "      <th>1819</th>\n",
       "      <td>2017</td>\n",
       "      <td>12</td>\n",
       "      <td>0.179</td>\n",
       "      <td>2017-12-01</td>\n",
       "      <td>2018</td>\n",
       "      <td>2018</td>\n",
       "      <td>2018</td>\n",
       "    </tr>\n",
       "    <tr>\n",
       "      <th>1820</th>\n",
       "      <td>2018</td>\n",
       "      <td>12</td>\n",
       "      <td>0.379</td>\n",
       "      <td>2018-12-01</td>\n",
       "      <td>2019</td>\n",
       "      <td>2019</td>\n",
       "      <td>2019</td>\n",
       "    </tr>\n",
       "    <tr>\n",
       "      <th>1821</th>\n",
       "      <td>2019</td>\n",
       "      <td>12</td>\n",
       "      <td>0.312</td>\n",
       "      <td>2019-12-01</td>\n",
       "      <td>2020</td>\n",
       "      <td>2020</td>\n",
       "      <td>2020</td>\n",
       "    </tr>\n",
       "    <tr>\n",
       "      <th>1822</th>\n",
       "      <td>2020</td>\n",
       "      <td>12</td>\n",
       "      <td>0.100</td>\n",
       "      <td>2020-12-01</td>\n",
       "      <td>2021</td>\n",
       "      <td>2021</td>\n",
       "      <td>2021</td>\n",
       "    </tr>\n",
       "  </tbody>\n",
       "</table>\n",
       "<p>1815 rows × 7 columns</p>\n",
       "</div>"
      ],
      "text/plain": [
       "      year month    dmi       date north south tropic\n",
       "0     1870     1 -0.373 1870-01-01  1870  1870   1870\n",
       "1     1871     1 -0.208 1871-01-01  1871  1871   1871\n",
       "2     1872     1  0.028 1872-01-01  1872  1872   1872\n",
       "3     1873     1  0.127 1873-01-01  1873  1873   1873\n",
       "4     1874     1 -0.316 1874-01-01  1874  1874   1874\n",
       "...    ...   ...    ...        ...   ...   ...    ...\n",
       "1818  2016    12 -0.241 2016-12-01  2017  2017   2017\n",
       "1819  2017    12  0.179 2017-12-01  2018  2018   2018\n",
       "1820  2018    12  0.379 2018-12-01  2019  2019   2019\n",
       "1821  2019    12  0.312 2019-12-01  2020  2020   2020\n",
       "1822  2020    12  0.100 2020-12-01  2021  2021   2021\n",
       "\n",
       "[1815 rows x 7 columns]"
      ]
     },
     "execution_count": 17,
     "metadata": {},
     "output_type": "execute_result"
    }
   ],
   "source": [
    "dfl"
   ]
  },
  {
   "cell_type": "markdown",
   "metadata": {},
   "source": [
    "## Aggregate - Mean"
   ]
  },
  {
   "cell_type": "code",
   "execution_count": 22,
   "metadata": {},
   "outputs": [],
   "source": [
    "def mean_to_csv(var, dataname=dataname):\n",
    "    (dfl[[var, dataname]]\n",
    "     .rename(columns={var: 'year', dataname: f\"{dataname}_mean_{var}\"})\n",
    "     .groupby('year')\n",
    "     .mean()\n",
    "     .to_csv(f'datadrive/TeamG/data/{dataname}_annual_mean_{var}.csv'))"
   ]
  },
  {
   "cell_type": "markdown",
   "metadata": {},
   "source": [
    "Northern Hemisphere (Dec-Dec)"
   ]
  },
  {
   "cell_type": "code",
   "execution_count": 44,
   "metadata": {},
   "outputs": [],
   "source": [
    "mean_to_csv('north')"
   ]
  },
  {
   "cell_type": "markdown",
   "metadata": {},
   "source": [
    "Southern Hemisphere (Jun-Jun)"
   ]
  },
  {
   "cell_type": "code",
   "execution_count": 20,
   "metadata": {},
   "outputs": [],
   "source": [
    "mean_to_csv('south')"
   ]
  },
  {
   "cell_type": "markdown",
   "metadata": {},
   "source": [
    "Tropical year (May-May)"
   ]
  },
  {
   "cell_type": "code",
   "execution_count": 21,
   "metadata": {},
   "outputs": [],
   "source": [
    "mean_to_csv('tropic')"
   ]
  },
  {
   "cell_type": "markdown",
   "metadata": {},
   "source": [
    "Hsiang 2011 - \"Civil conflicts are associated with the global climate\" (Mar-Dec) <br>\n",
    "https://www.nature.com/articles/nature10311"
   ]
  },
  {
   "cell_type": "code",
   "execution_count": 37,
   "metadata": {},
   "outputs": [],
   "source": [
    "(dfl[dfl.month > 4]\n",
    " .groupby('year')\n",
    " .mean()[dataname]\n",
    " .to_csv(f'datadrive/TeamG/data/{dataname}_annual_mean_hsiang2011.csv')\n",
    ")"
   ]
  },
  {
   "cell_type": "markdown",
   "metadata": {},
   "source": [
    "## Aggregate - Variance"
   ]
  },
  {
   "cell_type": "code",
   "execution_count": 48,
   "metadata": {},
   "outputs": [],
   "source": [
    "def variance_to_csv(var, dataname=dataname):\n",
    "    (dfl[[var, dataname]]\n",
    "     .rename(columns={var: 'year', dataname: f\"{dataname}_variance_{var}\"})\n",
    "     .groupby('year')\n",
    "     .var()\n",
    "     .to_csv(f'datadrive/TeamG/data/{dataname}_annual_variance_{var}.csv'))"
   ]
  },
  {
   "cell_type": "markdown",
   "metadata": {},
   "source": [
    "Northern Hemisphere (Dec-Dec)"
   ]
  },
  {
   "cell_type": "code",
   "execution_count": 49,
   "metadata": {},
   "outputs": [],
   "source": [
    "variance_to_csv('north')"
   ]
  },
  {
   "cell_type": "markdown",
   "metadata": {},
   "source": [
    "Southern Hemisphere (Jun-Jun)"
   ]
  },
  {
   "cell_type": "code",
   "execution_count": 50,
   "metadata": {},
   "outputs": [],
   "source": [
    "variance_to_csv('south')"
   ]
  },
  {
   "cell_type": "markdown",
   "metadata": {},
   "source": [
    "Tropical year (May-May)"
   ]
  },
  {
   "cell_type": "code",
   "execution_count": 51,
   "metadata": {},
   "outputs": [],
   "source": [
    "variance_to_csv('tropic')"
   ]
  },
  {
   "cell_type": "markdown",
   "metadata": {},
   "source": [
    "Hsiang 2011 - \"Civil conflicts are associated with the global climate\" (Mar-Dec) <br>\n",
    "https://www.nature.com/articles/nature10311"
   ]
  },
  {
   "cell_type": "code",
   "execution_count": 52,
   "metadata": {},
   "outputs": [],
   "source": [
    "(dfl[dfl.month > 4]\n",
    " .groupby('year')\n",
    " .var()[dataname]\n",
    " .to_csv(f'datadrive/TeamG/data/{dataname}_annual_variance_hsiang2011.csv')\n",
    ")"
   ]
  },
  {
   "cell_type": "code",
   "execution_count": null,
   "metadata": {},
   "outputs": [],
   "source": []
  }
 ],
 "metadata": {
  "kernelspec": {
   "display_name": "py38_default",
   "language": "python",
   "name": "conda-env-py38_default-py"
  },
  "language_info": {
   "codemirror_mode": {
    "name": "ipython",
    "version": 3
   },
   "file_extension": ".py",
   "mimetype": "text/x-python",
   "name": "python",
   "nbconvert_exporter": "python",
   "pygments_lexer": "ipython3",
   "version": "3.8.10"
  }
 },
 "nbformat": 4,
 "nbformat_minor": 4
}
